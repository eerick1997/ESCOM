{
  "nbformat": 4,
  "nbformat_minor": 0,
  "metadata": {
    "colab": {
      "name": "Practice02.ipynb",
      "provenance": [],
      "collapsed_sections": []
    },
    "kernelspec": {
      "name": "python3",
      "display_name": "Python 3"
    },
    "language_info": {
      "name": "python"
    }
  },
  "cells": [
    {
      "cell_type": "code",
      "metadata": {
        "colab": {
          "base_uri": "https://localhost:8080/"
        },
        "id": "jm32WHV8rpIf",
        "outputId": "46bbb862-8cd0-4ee6-bb0b-03db76dfbbf1"
      },
      "source": [
        "# THE KNAPSACK PROBLEM\n",
        "import numpy as np\n",
        "\n",
        "#INPUT VALUES\n",
        "values = (3, 4, 5, 6)\n",
        "weight = (2, 3, 4, 5)\n",
        "maxWeight = 5\n",
        "\n",
        "numberOfElements = len(values)\n",
        "\n",
        "#CALCULATING VALUES USING DYNAMIC PROGRAMMING\n",
        "\n",
        "#We're using a matrix rows = currElement and col = currWeight\n",
        "DP = np.zeros((numberOfElements + 1, maxWeight + 1))\n",
        "\n",
        "#In cpp for(int currElement = 1; currElement < numberOfElements + 1; currElement++)\n",
        "for currElement in range(1, numberOfElements + 1): \n",
        "  #In cpp for(int currWeight = 1; currWeight < maxWeight + 1; currWeight++)\n",
        "  for currWeight in range(1, maxWeight + 1):\n",
        "    #Current element weight is greater than current weight (impossible to add)\n",
        "    if weight[currElement - 1] > currWeight:\n",
        "      DP[currElement][currWeight] = DP[currElement - 1][currWeight]\n",
        "    else:\n",
        "      #Transition list: as a summary the decisions that we can take to choose what's better at this point \n",
        "      notTakeCurrentElement = DP[currElement - 1][currWeight]\n",
        "      takeCurrentElement = DP[currElement - 1][currWeight - weight[currElement - 1]] + values[currElement - 1]\n",
        "      DP[currElement][currWeight] = max(notTakeCurrentElement, takeCurrentElement)\n",
        "    \n",
        "print(f'Table result:\\n{DP}')\n",
        "\n",
        "#DP RECONSTRUCTION we can get the elements of the best solution\n",
        "elementsUsed = []\n",
        "itemValues = []\n",
        "itemWeights = []\n",
        "\n",
        "\n",
        "while currElement >= 0 and currWeight >= 0:\n",
        "  #We move from bottom to up until the current element is different to the previous element\n",
        "  while currElement > 0 and DP[currElement][currWeight] == DP[currElement - 1][currWeight]:\n",
        "    currElement -= 1\n",
        "  if currElement > 0:\n",
        "    #If the current element is different to the previous one (with the same weight) we find an element that is part of the answer\n",
        "    elementsUsed.append(currElement)\n",
        "    itemValues.append(values[currElement - 1])\n",
        "    itemWeights.append(weight[currElement - 1])\n",
        "  currWeight -= (weight[currElement - 1])\n",
        "  currElement -= 1\n",
        "\n",
        "elementsUsed.reverse()\n",
        "itemValues.reverse()\n",
        "itemWeights.reverse()\n",
        "\n",
        "print(f'\\nThe best solution with a maximum weight of: {maxWeight} is: {DP[numberOfElements][maxWeight]} \\nthe elements used were: {elementsUsed} (in that specific order) \\nit means the items with values: {itemValues} and weights {itemWeights} respectively')\n"
      ],
      "execution_count": null,
      "outputs": [
        {
          "output_type": "stream",
          "name": "stdout",
          "text": [
            "Table result:\n",
            "[[0. 0. 0. 0. 0. 0.]\n",
            " [0. 0. 3. 3. 3. 3.]\n",
            " [0. 0. 3. 4. 4. 7.]\n",
            " [0. 0. 3. 4. 5. 7.]\n",
            " [0. 0. 3. 4. 5. 7.]]\n",
            "\n",
            "The best solution with a maximum weight of: 5 is: 7.0 \n",
            "the elements used were: [1, 2] (in that specific order) \n",
            "it means the items with values: [3, 4] and weights [2, 3] respectively\n"
          ]
        }
      ]
    },
    {
      "cell_type": "code",
      "metadata": {
        "colab": {
          "base_uri": "https://localhost:8080/"
        },
        "id": "hcv5PDWYgCja",
        "outputId": "03a1cf46-ea14-49fd-ffbb-5ab8b7326432"
      },
      "source": [
        "!python --version"
      ],
      "execution_count": null,
      "outputs": [
        {
          "output_type": "stream",
          "name": "stdout",
          "text": [
            "Python 3.7.12\n"
          ]
        }
      ]
    },
    {
      "cell_type": "code",
      "metadata": {
        "colab": {
          "base_uri": "https://localhost:8080/"
        },
        "id": "R-gteXPZ9f1i",
        "outputId": "e2ff5b7c-d684-47a9-a114-675ec2f7dfe2"
      },
      "source": [
        "# COIN CHANGE PROBLEM GREEDY VERSION\n",
        "\n",
        "import numpy as np\n",
        "\n",
        "# INPUT VALUES\n",
        "\n",
        "coins = (1, 2, 5)\n",
        "value = 6\n",
        "\n",
        "solution = {}\n",
        "\n",
        "for denomination in coins:\n",
        "  solution[denomination] = 0\n",
        "\n",
        "currentValue = 0\n",
        "currElement = len(coins) - 1\n",
        "\n",
        "while currentValue < value:\n",
        "  if(value - currentValue) >= coins[currElement]:\n",
        "    currentValue += coins[currElement]\n",
        "    solution[coins[currElement]] += 1\n",
        "  else:\n",
        "    currElement -= 1\n",
        "\n",
        "print(\"The solution is to use\", sum(solution.values()), \"coins\")\n",
        "for denomination in coins:\n",
        "    print(solution[denomination],\"coins of denomination\", denomination)"
      ],
      "execution_count": null,
      "outputs": [
        {
          "output_type": "stream",
          "name": "stdout",
          "text": [
            "Coin selected: 5\n",
            "Coin selected: 1\n",
            "The solution is to use 2 coins\n",
            "1 coins of denomination 1\n",
            "0 coins of denomination 2\n",
            "1 coins of denomination 5\n"
          ]
        }
      ]
    },
    {
      "cell_type": "code",
      "metadata": {
        "colab": {
          "base_uri": "https://localhost:8080/"
        },
        "id": "_GQGIzOsyyIt",
        "outputId": "17f20f7d-dfb1-4505-8cc7-974ad84b6185"
      },
      "source": [
        "#DYNAMIC PROGRAMMING\n",
        "\n",
        "import numpy as np\n",
        "\n",
        "coins = [1, 2, 5]\n",
        "value = 11\n",
        "\n",
        "nCoins = len(coins)\n",
        "\n",
        "#currCoins = our coins and currValues = values (it starts from zero)\n",
        "DP = np.zeros((nCoins, value + 1))\n",
        "\n",
        "#for(currValue = 1; currValue < value + 1; currValue++)\n",
        "for currValue in range(1, value + 1):\n",
        "  DP[0][currValue] = currValue\n",
        "\n",
        "for currCoin in range(1, nCoins):\n",
        "  for currValue in range(1, value + 1):\n",
        "    #Current coin value is impossible to use it because it's value is greater than the current change\n",
        "    if coins[currCoin] > currValue:\n",
        "      #We store the best solution at this point ignoring the current coin but using the previous one\n",
        "      DP[currCoin][currValue] = DP[currCoin - 1][currValue]\n",
        "    else:\n",
        "      #We can use the current coin but also we can check if with the previous coin but with the same change we have a better solution\n",
        "      #Transition list:\n",
        "      notTakeCurrentCoin = DP[currCoin - 1][currValue]\n",
        "      takeCurrentCoin = DP[currCoin][currValue - coins[currCoin]] + 1\n",
        "      DP[currCoin][currValue] = min(notTakeCurrentCoin, takeCurrentCoin)\n",
        "        \n",
        "print(f'Table result: \\n{DP}')\n",
        "\n",
        "coinsUsed = []\n",
        "coinsValues = []\n",
        "\n",
        "while currCoin >= 0:\n",
        "  while currValue >= 0:\n",
        "    if DP[currCoin][currValue] != DP[currCoin - 1][currValue] and coins[currCoin] <= value:\n",
        "      currValue -= coins[currCoin]\n",
        "      coinsUsed.append(currCoin)\n",
        "      coinsValues.append(coins[currCoin])\n",
        "    elif currCoin == 0 and coins[currCoin] <= currValue:\n",
        "      currValue -= coins[currCoin]\n",
        "      coinsUsed.append(currCoin)\n",
        "      coinsValues.append(coins[currCoin])\n",
        "    else:\n",
        "      currCoin -= 1\n",
        "      break\n",
        "\n",
        "print(f'With the change: {value} we need to use: {DP[nCoins - 1][value]} to minimize the number of coins, \\nand the coins to use are: {coinsUsed} with the values {coinsValues}')"
      ],
      "execution_count": null,
      "outputs": [
        {
          "output_type": "stream",
          "name": "stdout",
          "text": [
            "Table result: \n",
            "[[ 0.  1.  2.  3.  4.  5.  6.  7.  8.  9. 10. 11.]\n",
            " [ 0.  1.  1.  2.  2.  3.  3.  4.  4.  5.  5.  6.]\n",
            " [ 0.  1.  1.  2.  2.  1.  2.  2.  3.  3.  2.  3.]]\n",
            "With the change: 11 we need to use: 3.0 to minimize the number of coins, \n",
            "and the coins to use are: [2, 2, 0] with the values [5, 5, 1]\n"
          ]
        }
      ]
    },
    {
      "cell_type": "code",
      "metadata": {
        "colab": {
          "base_uri": "https://localhost:8080/"
        },
        "id": "CLiwVFCUWKZM",
        "outputId": "66ffd906-a4a2-4205-a5e5-52059b1ae884"
      },
      "source": [
        "#DYNAMIC PROGRAMMING\n",
        "\n",
        "import numpy as np\n",
        "\n",
        "def areEqualCharacters(a, b):\n",
        "  return 0 if a == b else 1\n",
        "\n",
        "firstWord = \"hello\"\n",
        "secondWord = \"hallo\"\n",
        "\n",
        "maxFirstWord = len(firstWord)\n",
        "maxSecondWord = len(secondWord)\n",
        "\n",
        "DP = np.zeros((maxFirstWord + 1, maxSecondWord + 1))\n",
        "\n",
        "#It is equals to for(int i = 0; i < firstWord + 1; i++)\n",
        "for i in range(maxFirstWord + 1):\n",
        "  #This case means the secondWord is empty so we do not need to change anything\n",
        "  DP[i][0] = i\n",
        "\n",
        "#It is equals to for(int j = 0; j < secondWord + 1; j++)\n",
        "for j in range(maxSecondWord + 1):\n",
        "  #Very similar to the previous case it means firstWord is empty we do not need to change anything\n",
        "  DP[0][j] = j\n",
        "\n",
        "for i in range(1, maxFirstWord + 1):\n",
        "  for j in range(1, maxSecondWord + 1):\n",
        "    #Trivial solution, one of the strings is empty in this subproblem\n",
        "    if min(i, j) == 0:\n",
        "      DP[i][j] = max(i, j)\n",
        "    #Transition list\n",
        "    #Fist transition: we move the first pointer\n",
        "    moveFirstPointer = DP[i - 1][j] + 1\n",
        "    #Second transition: we move the second pointer\n",
        "    moveSecondPointer = DP[i][j - 1] + 1\n",
        "    #third transition: we move both pointers and we check if both characters are equal or not (if they are equal we add 1 to the solution)\n",
        "    moveBothPointers = DP[i - 1][j - 1] + areEqualCharacters(firstWord[i - 1], secondWord[j - 1])\n",
        "    #We choose the best solution\n",
        "    DP[i][j] = min(moveFirstPointer, moveSecondPointer, moveBothPointers)\n",
        "\n",
        "print(f'Table result: \\n{DP}')\n",
        "print(f'\\nMinimum moves needed: {DP[maxFirstWord][maxSecondWord]} with the words \"{firstWord}\" and \"{secondWord}\"')"
      ],
      "execution_count": null,
      "outputs": [
        {
          "output_type": "stream",
          "name": "stdout",
          "text": [
            "Table result: \n",
            "[[0. 1. 2. 3. 4. 5.]\n",
            " [1. 0. 1. 2. 3. 4.]\n",
            " [2. 1. 1. 2. 3. 4.]\n",
            " [3. 2. 2. 1. 2. 3.]\n",
            " [4. 3. 3. 2. 1. 2.]\n",
            " [5. 4. 4. 3. 2. 1.]]\n",
            "\n",
            "Minimum moves needed: 1.0 with the words \"hello\" and \"hallo\"\n"
          ]
        }
      ]
    }
  ]
}